{
 "cells": [
  {
   "cell_type": "code",
   "execution_count": null,
   "id": "9cdfd9ed-6224-4ceb-a6aa-79df357a7215",
   "metadata": {},
   "outputs": [
    {
     "name": "stdout",
     "output_type": "stream",
     "text": [
      "Welcome to the Banking App\n",
      "Please enter the corresponding number for the action:\n",
      "1) Open Account\n",
      "2) Login\n"
     ]
    },
    {
     "name": "stdin",
     "output_type": "stream",
     "text": [
      "Select an option (1 or 2):  1\n",
      "Enter a new username:  \"jo\"\n",
      "Enter a new password:  \"jo\"\n"
     ]
    },
    {
     "name": "stdout",
     "output_type": "stream",
     "text": [
      "Account created successfully. You can now log in.\n",
      "Welcome to the Banking App\n",
      "Please enter the corresponding number for the action:\n",
      "1) Open Account\n",
      "2) Login\n"
     ]
    },
    {
     "name": "stdin",
     "output_type": "stream",
     "text": [
      "Select an option (1 or 2):  2\n",
      "Enter your username \"jo\"\n",
      "Enter your password :  \"jo\"\n"
     ]
    },
    {
     "name": "stdout",
     "output_type": "stream",
     "text": [
      "Your account is logged in successfully\n",
      "you are logged in\n",
      "\n",
      "Please select an action:\n",
      "1) Deposit\n",
      "2) Withdrawal\n",
      "3) Check Balance\n",
      "4) Exit\n"
     ]
    },
    {
     "name": "stdin",
     "output_type": "stream",
     "text": [
      "Select an option (1-4):  1\n",
      "Enter the amount to deposit:  50000\n"
     ]
    },
    {
     "name": "stdout",
     "output_type": "stream",
     "text": [
      "The amount Rs: 50000 has been credited to your account\n",
      "\n",
      "Please select an action:\n",
      "1) Deposit\n",
      "2) Withdrawal\n",
      "3) Check Balance\n",
      "4) Exit\n"
     ]
    },
    {
     "name": "stdin",
     "output_type": "stream",
     "text": [
      "Select an option (1-4):  2\n",
      "Enter the amount to withdraw:  1500\n"
     ]
    },
    {
     "name": "stdout",
     "output_type": "stream",
     "text": [
      "The amount Rs: 1500 has been withdrawn. New balance: Rs 48500\n",
      "\n",
      "Please select an action:\n",
      "1) Deposit\n",
      "2) Withdrawal\n",
      "3) Check Balance\n",
      "4) Exit\n"
     ]
    },
    {
     "name": "stdin",
     "output_type": "stream",
     "text": [
      "Select an option (1-4):  3\n"
     ]
    },
    {
     "name": "stdout",
     "output_type": "stream",
     "text": [
      "Your current balance is: Rs 48500\n",
      "\n",
      "Please select an action:\n",
      "1) Deposit\n",
      "2) Withdrawal\n",
      "3) Check Balance\n",
      "4) Exit\n"
     ]
    }
   ],
   "source": [
    "class Account:\n",
    "    def __init__(self, username, password):\n",
    "        self.username = username\n",
    "        self.password = password\n",
    "        self.user_log_in = False\n",
    "        self.balance = 0\n",
    "\n",
    "    def login(self, username, password):\n",
    "        if username == self.username and password == self.password:\n",
    "            self.user_log_in = True\n",
    "            print(\"Your account is logged in successfully\")\n",
    "        else:\n",
    "            print(\"Wrong username or password\")\n",
    "\n",
    "    def deposit(self, amount):\n",
    "        if self.user_log_in:\n",
    "            if amount > 0:\n",
    "                self.balance += amount\n",
    "                print(f\"The amount Rs: {amount} has been credited to your account\")\n",
    "            else:\n",
    "                print(\"The amount must be greater than zero\")\n",
    "        else:\n",
    "            print(\"You need to log in to deposit money\")\n",
    "\n",
    "    def withdrawal(self, amount):\n",
    "        if self.user_log_in:\n",
    "            if amount > 0:\n",
    "                if amount <= self.balance:\n",
    "                    self.balance -= amount\n",
    "                    print(f\"The amount Rs: {amount} has been withdrawn. New balance: Rs {self.balance}\")\n",
    "                else:\n",
    "                    print(\"Insufficient balance\")\n",
    "            else:\n",
    "                print(\"The amount must be greater than zero\")\n",
    "        else:\n",
    "            print(\"You need to log in to withdraw money\")\n",
    "\n",
    "    def check_balance(self):\n",
    "        if self.user_log_in:\n",
    "            print(f\"Your current balance is: Rs {self.balance}\")\n",
    "        else:\n",
    "            print(\"You need to log in to check your balance\")\n",
    "\n",
    "print(\"Welcome to the Banking App\")\n",
    "print(\"Please enter the corresponding number for the action:\")\n",
    "print(\"1) Open Account\")\n",
    "print(\"2) Login\")\n",
    "\n",
    "acc = None\n",
    "\n",
    "\n",
    "a = int(input(\"Select an option (1 or 2): \"))\n",
    "if a == 1:\n",
    "    username = input(\"Enter a new username: \")\n",
    "    password = input(\"Enter a new password: \")\n",
    "    acc = Account(username, password)\n",
    "    print(\"Account created successfully. You can now log in.\")\n",
    "    print(\"Welcome to the Banking App\")\n",
    "    print(\"Please enter the corresponding number for the action:\")\n",
    "    print(\"1) Open Account\")\n",
    "    print(\"2) Login\")\n",
    "    a = int(input(\"Select an option (1 or 2): \"))\n",
    "    if a == 2:\n",
    "        if acc is None:\n",
    "            print(\"No account exists. Please create an account first.\")\n",
    "            exit()\n",
    "        d = input(\"Enter your username\") \n",
    "        e= input(\"Enter your password : \")\n",
    "        acc.login(username,password)\n",
    "        print(\"you are logged in\")\n",
    "    elif a==2:\n",
    "        exit()\n",
    "    else:\n",
    "        print(\"Invalid selection. Exiting program.\")\n",
    "        exit()\n",
    "    if acc.user_log_in:\n",
    "        while True:\n",
    "            print(\"\\nPlease select an action:\")\n",
    "            print(\"1) Deposit\")\n",
    "            print(\"2) Withdrawal\")\n",
    "            print(\"3) Check Balance\")\n",
    "            print(\"4) Exit\")\n",
    "    \n",
    "            b = int(input(\"Select an option (1-4): \"))\n",
    "    \n",
    "            if b == 1:\n",
    "                amount = int(input(\"Enter the amount to deposit: \"))\n",
    "                acc.deposit(amount)\n",
    "    \n",
    "            elif b == 2:\n",
    "                amount = int(input(\"Enter the amount to withdraw: \"))\n",
    "                acc.withdrawal(amount)\n",
    "    \n",
    "            elif b == 3:\n",
    "                acc.check_balance()\n",
    "    \n",
    "            elif b == 4:\n",
    "                print(\"Thank you for using the Banking App. Goodbye!\")\n",
    "                break\n",
    "    \n",
    "            else:\n",
    "                print(\"Invalid selection. Please try again.\")\n",
    "    \n",
    "    else:\n",
    "        print(\"Please log in to perform actions.\")"
   ]
  }
 ],
 "metadata": {
  "kernelspec": {
   "display_name": "Python 3 (ipykernel)",
   "language": "python",
   "name": "python3"
  },
  "language_info": {
   "codemirror_mode": {
    "name": "ipython",
    "version": 3
   },
   "file_extension": ".py",
   "mimetype": "text/x-python",
   "name": "python",
   "nbconvert_exporter": "python",
   "pygments_lexer": "ipython3",
   "version": "3.12.4"
  }
 },
 "nbformat": 4,
 "nbformat_minor": 5
}
